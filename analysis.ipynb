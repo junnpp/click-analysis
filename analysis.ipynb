{
 "cells": [
  {
   "cell_type": "code",
   "execution_count": 1,
   "id": "f3ffe4d2-c1ba-4222-9fe8-29546592090d",
   "metadata": {},
   "outputs": [],
   "source": [
    "import pandas as pd\n",
    "import numpy as np\n",
    "import os\n",
    "import duckdb\n",
    "import matplotlib.pyplot as plt\n",
    "import scipy.stats as stats\n",
    "import seaborn as sns\n",
    "from statsmodels.stats.weightstats import ztest as ztest\n",
    "\n",
    "# embeding images\n",
    "from IPython.display import Image\n",
    "from IPython.core.display import HTML "
   ]
  },
  {
   "cell_type": "code",
   "execution_count": 2,
   "id": "21c783c4-6f74-45e7-833d-ec4fd0e365c2",
   "metadata": {},
   "outputs": [],
   "source": [
    "# left-aligning column description table"
   ]
  },
  {
   "cell_type": "code",
   "execution_count": 3,
   "id": "e5a06f0e-7ffc-4836-8315-02c82bd2baef",
   "metadata": {
    "tags": []
   },
   "outputs": [
    {
     "data": {
      "text/html": [
       "<style>\n",
       "  table {margin-left: 0 !important;}\n",
       "</style>\n"
      ],
      "text/plain": [
       "<IPython.core.display.HTML object>"
      ]
     },
     "metadata": {},
     "output_type": "display_data"
    }
   ],
   "source": [
    "%%html\n",
    "<style>\n",
    "  table {margin-left: 0 !important;}\n",
    "</style>"
   ]
  },
  {
   "cell_type": "markdown",
   "id": "e28510df-b396-4f63-82b9-d5b9877eb516",
   "metadata": {
    "tags": []
   },
   "source": [
    "# E-Shop Clothing Click Analysis\n",
    "\n",
    "The data set is from [UCI Machine Learning Repository](https://archive.ics.uci.edu/ml/datasets/clickstream+data+for+online+shopping#). According to its data set description, *the dataset contains information on clickstream from online store offering clothing for pregnant women. Data are from five months of 2008 and include, among others, product category, location of the photo on the page, country of origin of the IP address and product price in US dollars.* There are 165475 instances in total and each row consists of 14 columns as follows:\n",
    "\n",
    "| Name | Type | Despcription |\n",
    "| :-- | :-: | :-- |\n",
    "| `year` | int | the year of the record: 2008 |\n",
    "| `month` | int | the month of the record: from April (4) to August (8) | \n",
    "| `day` | int | day number of the month |\n",
    "| `order` | int | sequence of clicks during one session | \n",
    "| `country` | int | variable indicating the country of origin of the IP address. <br>  categories are specified in the `e-shop clothing 2008 data description.txt` file in the data directory\n",
    "| `session ID` | int | variable indicating session id (short record) |\n",
    "| `page 1 (main category)` | int | indicates the main product category: 1-trousers, 2-skirts, 3-blouses, 4-sale\n",
    "| `page 2 (clothing model)` | str | contains information about thre code for each product (217 products in total) |\n",
    "| `colour` | int | color of product <br> 1-beige, 2-black, 3-blue, 4-brown, 5-burgundy, 6-gray, 7-green, 8-navy blue, <br> 9-of many colors, 10-olive, 11-pink, 12-red, 13-violet, 14-white|\n",
    "| `location` | int | photo location on the page, the screen has been divided into six parts <br> 1-top left, 2-top center, 3-top right 4-bottom left, 5-bottom center, 6-bottom right| \n",
    "| `model photography` | int | variable with two categories: 1-en face, 2-profile |\n",
    "| `price` | int | price in US dollars |\n",
    "| `price 2` | int | variable informing whether the price of a particular product is higher than the average price for the entire product category <br> 1-yes, 2-no| \n",
    "| `page` | int | page number within the e-store website (from 1 to 5) |"
   ]
  },
  {
   "cell_type": "markdown",
   "id": "a8eb0f14-bf73-4918-b294-32f07aa95d9f",
   "metadata": {
    "tags": []
   },
   "source": [
    "## Domain Knowledge\n",
    "\n",
    "Before diving into analysis, it is important to understand the context of the value of each column and row. The following websites help readers to gain knowledge of this dataset.\n",
    "\n",
    "- [Difference between sessions and clicks](https://blog.stackadapt.com/sessions-vs-clicks-what-s-the-difference-anyway): Session is each user making certain interactions with your website within a given timeframe while click is an action of users selecting certain elements of the website. In the data set, `session ID` indicates an unique activity of users (possibly the same user) and `order` column represents the sequence of clicks during a specific session. For most cases, there are multiple clicks during a single session."
   ]
  },
  {
   "cell_type": "markdown",
   "id": "d599461d-3b97-421c-a895-7e8545641549",
   "metadata": {},
   "source": [
    "## Import / Exploratory Data Analysis\n",
    "\n",
    "Import the data and conduct an exploratory data analysis to get an overall sense of the data set.\n",
    "\n",
    "Possible questions to answer:\n",
    "\n",
    "1. How is the amount of traffic distributed across the days of the month?\n",
    "2. How is the amount of traffic distributed across the countries?\n",
    "3. Average number of clicks during one session."
   ]
  },
  {
   "cell_type": "code",
   "execution_count": 4,
   "id": "9126c72d-a547-4a43-8ff3-755e6f5e648e",
   "metadata": {},
   "outputs": [
    {
     "name": "stdout",
     "output_type": "stream",
     "text": [
      " Row:  165474 \n",
      " Column:  14\n"
     ]
    },
    {
     "data": {
      "text/html": [
       "<div>\n",
       "<style scoped>\n",
       "    .dataframe tbody tr th:only-of-type {\n",
       "        vertical-align: middle;\n",
       "    }\n",
       "\n",
       "    .dataframe tbody tr th {\n",
       "        vertical-align: top;\n",
       "    }\n",
       "\n",
       "    .dataframe thead th {\n",
       "        text-align: right;\n",
       "    }\n",
       "</style>\n",
       "<table border=\"1\" class=\"dataframe\">\n",
       "  <thead>\n",
       "    <tr style=\"text-align: right;\">\n",
       "      <th></th>\n",
       "      <th>year</th>\n",
       "      <th>month</th>\n",
       "      <th>day</th>\n",
       "      <th>order</th>\n",
       "      <th>country</th>\n",
       "      <th>session ID</th>\n",
       "      <th>page 1 (main category)</th>\n",
       "      <th>page 2 (clothing model)</th>\n",
       "      <th>colour</th>\n",
       "      <th>location</th>\n",
       "      <th>model photography</th>\n",
       "      <th>price</th>\n",
       "      <th>price 2</th>\n",
       "      <th>page</th>\n",
       "    </tr>\n",
       "  </thead>\n",
       "  <tbody>\n",
       "    <tr>\n",
       "      <th>0</th>\n",
       "      <td>2008</td>\n",
       "      <td>4</td>\n",
       "      <td>1</td>\n",
       "      <td>1</td>\n",
       "      <td>29</td>\n",
       "      <td>1</td>\n",
       "      <td>1</td>\n",
       "      <td>A13</td>\n",
       "      <td>1</td>\n",
       "      <td>5</td>\n",
       "      <td>1</td>\n",
       "      <td>28</td>\n",
       "      <td>2</td>\n",
       "      <td>1</td>\n",
       "    </tr>\n",
       "    <tr>\n",
       "      <th>1</th>\n",
       "      <td>2008</td>\n",
       "      <td>4</td>\n",
       "      <td>1</td>\n",
       "      <td>2</td>\n",
       "      <td>29</td>\n",
       "      <td>1</td>\n",
       "      <td>1</td>\n",
       "      <td>A16</td>\n",
       "      <td>1</td>\n",
       "      <td>6</td>\n",
       "      <td>1</td>\n",
       "      <td>33</td>\n",
       "      <td>2</td>\n",
       "      <td>1</td>\n",
       "    </tr>\n",
       "    <tr>\n",
       "      <th>2</th>\n",
       "      <td>2008</td>\n",
       "      <td>4</td>\n",
       "      <td>1</td>\n",
       "      <td>3</td>\n",
       "      <td>29</td>\n",
       "      <td>1</td>\n",
       "      <td>2</td>\n",
       "      <td>B4</td>\n",
       "      <td>10</td>\n",
       "      <td>2</td>\n",
       "      <td>1</td>\n",
       "      <td>52</td>\n",
       "      <td>1</td>\n",
       "      <td>1</td>\n",
       "    </tr>\n",
       "    <tr>\n",
       "      <th>3</th>\n",
       "      <td>2008</td>\n",
       "      <td>4</td>\n",
       "      <td>1</td>\n",
       "      <td>4</td>\n",
       "      <td>29</td>\n",
       "      <td>1</td>\n",
       "      <td>2</td>\n",
       "      <td>B17</td>\n",
       "      <td>6</td>\n",
       "      <td>6</td>\n",
       "      <td>2</td>\n",
       "      <td>38</td>\n",
       "      <td>2</td>\n",
       "      <td>1</td>\n",
       "    </tr>\n",
       "    <tr>\n",
       "      <th>4</th>\n",
       "      <td>2008</td>\n",
       "      <td>4</td>\n",
       "      <td>1</td>\n",
       "      <td>5</td>\n",
       "      <td>29</td>\n",
       "      <td>1</td>\n",
       "      <td>2</td>\n",
       "      <td>B8</td>\n",
       "      <td>4</td>\n",
       "      <td>3</td>\n",
       "      <td>2</td>\n",
       "      <td>52</td>\n",
       "      <td>1</td>\n",
       "      <td>1</td>\n",
       "    </tr>\n",
       "  </tbody>\n",
       "</table>\n",
       "</div>"
      ],
      "text/plain": [
       "   year  month  day  order  country  session ID  page 1 (main category)  \\\n",
       "0  2008      4    1      1       29           1                       1   \n",
       "1  2008      4    1      2       29           1                       1   \n",
       "2  2008      4    1      3       29           1                       2   \n",
       "3  2008      4    1      4       29           1                       2   \n",
       "4  2008      4    1      5       29           1                       2   \n",
       "\n",
       "  page 2 (clothing model)  colour  location  model photography  price  \\\n",
       "0                     A13       1         5                  1     28   \n",
       "1                     A16       1         6                  1     33   \n",
       "2                      B4      10         2                  1     52   \n",
       "3                     B17       6         6                  2     38   \n",
       "4                      B8       4         3                  2     52   \n",
       "\n",
       "   price 2  page  \n",
       "0        2     1  \n",
       "1        2     1  \n",
       "2        1     1  \n",
       "3        2     1  \n",
       "4        1     1  "
      ]
     },
     "execution_count": 4,
     "metadata": {},
     "output_type": "execute_result"
    }
   ],
   "source": [
    "# import the data by specifying the separator as \";\"\n",
    "click = pd.read_csv(os.path.join(\"data\", \"e-shop clothing 2008.csv\"), sep=\";\")\n",
    "print(\" Row: \", str(click.shape[0]), \"\\n\", \"Column: \", str(click.shape[1]))\n",
    "\n",
    "# printing out first 5 rows of the data\n",
    "click.head(5)"
   ]
  },
  {
   "cell_type": "code",
   "execution_count": 5,
   "id": "156ee643-823d-4f0d-8952-99017bcc6797",
   "metadata": {},
   "outputs": [
    {
     "data": {
      "text/plain": [
       "year                        int64\n",
       "month                       int64\n",
       "day                         int64\n",
       "order                       int64\n",
       "country                     int64\n",
       "session ID                  int64\n",
       "page 1 (main category)      int64\n",
       "page 2 (clothing model)    object\n",
       "colour                      int64\n",
       "location                    int64\n",
       "model photography           int64\n",
       "price                       int64\n",
       "price 2                     int64\n",
       "page                        int64\n",
       "dtype: object"
      ]
     },
     "execution_count": 5,
     "metadata": {},
     "output_type": "execute_result"
    }
   ],
   "source": [
    "# data type of each column\n",
    "click.dtypes"
   ]
  },
  {
   "cell_type": "markdown",
   "id": "f49c2976-e9f4-4571-8674-e403d1e7f428",
   "metadata": {},
   "source": [
    "### 1. Traffic Distribution Accross the Days of Week\n",
    "\n",
    "First, create a date column with given year, month, and day columns and extract the weekday for the analysis. Then, count the total number of 1) `clicks` and 2) `sessions` to compare the amount of traffic per weekday."
   ]
  },
  {
   "cell_type": "markdown",
   "id": "0d4daf57-a2c1-4d6d-94f2-dae394d3d7a3",
   "metadata": {
    "tags": []
   },
   "source": [
    "#### Total Number of Clicks per Weekday"
   ]
  },
  {
   "cell_type": "code",
   "execution_count": 6,
   "id": "505ac06a-9a2d-4ea9-ab9c-18fa17f4ad1d",
   "metadata": {},
   "outputs": [
    {
     "data": {
      "text/html": [
       "<div>\n",
       "<style scoped>\n",
       "    .dataframe tbody tr th:only-of-type {\n",
       "        vertical-align: middle;\n",
       "    }\n",
       "\n",
       "    .dataframe tbody tr th {\n",
       "        vertical-align: top;\n",
       "    }\n",
       "\n",
       "    .dataframe thead th {\n",
       "        text-align: right;\n",
       "    }\n",
       "</style>\n",
       "<table border=\"1\" class=\"dataframe\">\n",
       "  <thead>\n",
       "    <tr style=\"text-align: right;\">\n",
       "      <th></th>\n",
       "      <th>day</th>\n",
       "      <th>total</th>\n",
       "    </tr>\n",
       "  </thead>\n",
       "  <tbody>\n",
       "    <tr>\n",
       "      <th>0</th>\n",
       "      <td>Sunday</td>\n",
       "      <td>18758</td>\n",
       "    </tr>\n",
       "    <tr>\n",
       "      <th>1</th>\n",
       "      <td>Monday</td>\n",
       "      <td>25241</td>\n",
       "    </tr>\n",
       "    <tr>\n",
       "      <th>2</th>\n",
       "      <td>Tuesday</td>\n",
       "      <td>28697</td>\n",
       "    </tr>\n",
       "    <tr>\n",
       "      <th>3</th>\n",
       "      <td>Wednesday</td>\n",
       "      <td>27959</td>\n",
       "    </tr>\n",
       "    <tr>\n",
       "      <th>4</th>\n",
       "      <td>Thursday</td>\n",
       "      <td>25356</td>\n",
       "    </tr>\n",
       "    <tr>\n",
       "      <th>5</th>\n",
       "      <td>Friday</td>\n",
       "      <td>22684</td>\n",
       "    </tr>\n",
       "    <tr>\n",
       "      <th>6</th>\n",
       "      <td>Saturday</td>\n",
       "      <td>16779</td>\n",
       "    </tr>\n",
       "  </tbody>\n",
       "</table>\n",
       "</div>"
      ],
      "text/plain": [
       "         day  total\n",
       "0     Sunday  18758\n",
       "1     Monday  25241\n",
       "2    Tuesday  28697\n",
       "3  Wednesday  27959\n",
       "4   Thursday  25356\n",
       "5     Friday  22684\n",
       "6   Saturday  16779"
      ]
     },
     "execution_count": 6,
     "metadata": {},
     "output_type": "execute_result"
    }
   ],
   "source": [
    "# create weekday column by\n",
    "# 1. create date columen by combining year, month, and day column\n",
    "# 2. extract weekday from the newly created date column\n",
    "temp1 = duckdb.query(\"\"\"\n",
    "    SELECT\n",
    "        CASE\n",
    "            WHEN dt = 0 THEN 'Sunday'\n",
    "            WHEN dt = 1 THEN 'Monday'\n",
    "            WHEN dt = 2 THEN 'Tuesday'\n",
    "            WHEN dt = 3 THEN 'Wednesday'\n",
    "            WHEN dt = 4 THEN 'Thursday'\n",
    "            WHEN dt = 5 THEN 'Friday'\n",
    "            ELSE 'Saturday'\n",
    "        END AS day,\n",
    "        COUNT(*) AS total\n",
    "    FROM\n",
    "        (SELECT *, DAYOFWEEK(MAKE_DATE(year, month, day)) AS dt\n",
    "        FROM click) AS t1\n",
    "    GROUP BY dt\n",
    "    ORDER BY dt\n",
    "\"\"\").df()\n",
    "\n",
    "temp1"
   ]
  },
  {
   "cell_type": "code",
   "execution_count": 7,
   "id": "bc191eae-dc10-45c2-aa27-b21caa33f75b",
   "metadata": {},
   "outputs": [
    {
     "data": {
      "image/png": "[encoded data removed]",
      "text/plain": [
       "<Figure size 432x288 with 1 Axes>"
      ]
     },
     "metadata": {
      "needs_background": "light"
     },
     "output_type": "display_data"
    }
   ],
   "source": [
    "# default setting of the seaborn plot\n",
    "sns.set_theme()\n",
    "\n",
    "# specifying the figure size\n",
    "sns.set(rc={\"figure.figsize\":(10, 5)}) #width=10, height=5\n",
    "\n",
    "# increase font size of all elements\n",
    "sns.set(font_scale=1.2)\n",
    "\n",
    "# barplot with appropriate labels\n",
    "p = sns.barplot(x='day', y='total', data=temp1, color='gray')\n",
    "p.set(xlabel=\"\", ylabel=\"Total Number of Clicks\", title= \"Click Distribution by Day of Week\")\n",
    "\n",
    "plt.show()"
   ]
  },
  {
   "cell_type": "markdown",
   "id": "7f39b6bd-48df-47a0-a009-df9af21d07eb",
   "metadata": {},
   "source": [
    "#### Total Number of Sessions per Weekday"
   ]
  },
  {
   "cell_type": "code",
   "execution_count": 8,
   "id": "8ef02c92-80a8-435f-a476-1291f825a83d",
   "metadata": {},
   "outputs": [
    {
     "data": {
      "text/html": [
       "<div>\n",
       "<style scoped>\n",
       "    .dataframe tbody tr th:only-of-type {\n",
       "        vertical-align: middle;\n",
       "    }\n",
       "\n",
       "    .dataframe tbody tr th {\n",
       "        vertical-align: top;\n",
       "    }\n",
       "\n",
       "    .dataframe thead th {\n",
       "        text-align: right;\n",
       "    }\n",
       "</style>\n",
       "<table border=\"1\" class=\"dataframe\">\n",
       "  <thead>\n",
       "    <tr style=\"text-align: right;\">\n",
       "      <th></th>\n",
       "      <th>day</th>\n",
       "      <th>total</th>\n",
       "    </tr>\n",
       "  </thead>\n",
       "  <tbody>\n",
       "    <tr>\n",
       "      <th>0</th>\n",
       "      <td>Sunday</td>\n",
       "      <td>2693</td>\n",
       "    </tr>\n",
       "    <tr>\n",
       "      <th>1</th>\n",
       "      <td>Monday</td>\n",
       "      <td>3846</td>\n",
       "    </tr>\n",
       "    <tr>\n",
       "      <th>2</th>\n",
       "      <td>Tuesday</td>\n",
       "      <td>4287</td>\n",
       "    </tr>\n",
       "    <tr>\n",
       "      <th>3</th>\n",
       "      <td>Wednesday</td>\n",
       "      <td>3994</td>\n",
       "    </tr>\n",
       "    <tr>\n",
       "      <th>4</th>\n",
       "      <td>Thursday</td>\n",
       "      <td>3530</td>\n",
       "    </tr>\n",
       "    <tr>\n",
       "      <th>5</th>\n",
       "      <td>Friday</td>\n",
       "      <td>3293</td>\n",
       "    </tr>\n",
       "    <tr>\n",
       "      <th>6</th>\n",
       "      <td>Saturday</td>\n",
       "      <td>2383</td>\n",
       "    </tr>\n",
       "  </tbody>\n",
       "</table>\n",
       "</div>"
      ],
      "text/plain": [
       "         day  total\n",
       "0     Sunday   2693\n",
       "1     Monday   3846\n",
       "2    Tuesday   4287\n",
       "3  Wednesday   3994\n",
       "4   Thursday   3530\n",
       "5     Friday   3293\n",
       "6   Saturday   2383"
      ]
     },
     "execution_count": 8,
     "metadata": {},
     "output_type": "execute_result"
    }
   ],
   "source": [
    "# create weekday column by\n",
    "# 1. create date columen by combining year, month, and day column\n",
    "# 2. extract weekday from the newly created date column\n",
    "# 3. count the number of unique session ID\n",
    "temp2 = duckdb.query(\"\"\"\n",
    "    SELECT\n",
    "        CASE\n",
    "            WHEN dt = 0 THEN 'Sunday'\n",
    "            WHEN dt = 1 THEN 'Monday'\n",
    "            WHEN dt = 2 THEN 'Tuesday'\n",
    "            WHEN dt = 3 THEN 'Wednesday'\n",
    "            WHEN dt = 4 THEN 'Thursday'\n",
    "            WHEN dt = 5 THEN 'Friday'\n",
    "            ELSE 'Saturday'\n",
    "        END AS day,\n",
    "        COUNT(*) AS total\n",
    "    FROM\n",
    "        (SELECT DISTINCT \"session ID\", DAYOFWEEK(MAKE_DATE(year, month, day)) AS dt\n",
    "        FROM click) AS t1\n",
    "    GROUP BY dt\n",
    "    ORDER BY dt\n",
    "\"\"\").df()\n",
    "\n",
    "temp2 "
   ]
  },
  {
   "cell_type": "code",
   "execution_count": 9,
   "id": "715f6ae3-b403-4946-b474-5b330bb9ad73",
   "metadata": {},
   "outputs": [
    {
     "data": {
      "image/png": "[encoded data removed]",
      "text/plain": [
       "<Figure size 720x360 with 1 Axes>"
      ]
     },
     "metadata": {},
     "output_type": "display_data"
    }
   ],
   "source": [
    "# default setting of the seaborn plot\n",
    "sns.set_theme()\n",
    "\n",
    "# specifying the figure size\n",
    "sns.set(rc={\"figure.figsize\":(10, 5)}) #width=10, height=5\n",
    "\n",
    "# increase font size of all elements\n",
    "sns.set(font_scale=1.2)\n",
    "\n",
    "# barplot with appropriate labels\n",
    "a = temp2.total\n",
    "colors = np.where(a.index.isin([2,3]), 'red', 'gray')\n",
    "p = temp2.plot(kind=\"bar\", x='day', y='total', color=colors,\n",
    "        xlabel=\"\", ylabel=\"\", legend=False)\n",
    "plt.xticks(rotation=0)\n",
    "\n",
    "plt.show()"
   ]
  },
  {
   "cell_type": "markdown",
   "id": "fa101a6e-fe65-46b8-9a5e-e2e41c6b8ec2",
   "metadata": {},
   "source": [
    "Notice the click and session distribution accross the day of week are approximately the same. Saturday has the lowest amount of traffic while Tuesday has the largest amount of traffic for both distributions. It is difficult to find the specific reasons behind this distribution, but we can certainly come up with a hypothesis:\n",
    "\n",
    "- Recall that this website offers clothings for pregnant women, meaing that the users are most likely pregnant women. Assuming most users are staying at home due to pregnancy, they might have more free time to search for clothings when other family members are not around: weekdays, especially around afternoon."
   ]
  },
  {
   "cell_type": "markdown",
   "id": "d6efa7e7-1e4d-4578-80a3-00b2dac0d8fe",
   "metadata": {
    "tags": []
   },
   "source": [
    "### 2. Session Distribution Across Countries\n",
    "\n",
    "Based on the country code specified in `e-shop clothing 2008 data description.txt` file, most of the traffic occured at European countries (mostly Poland)."
   ]
  },
  {
   "cell_type": "code",
   "execution_count": 10,
   "id": "e078eab1-b967-4039-95a1-e30df1813183",
   "metadata": {},
   "outputs": [
    {
     "data": {
      "text/html": [
       "<div>\n",
       "<style scoped>\n",
       "    .dataframe tbody tr th:only-of-type {\n",
       "        vertical-align: middle;\n",
       "    }\n",
       "\n",
       "    .dataframe tbody tr th {\n",
       "        vertical-align: top;\n",
       "    }\n",
       "\n",
       "    .dataframe thead th {\n",
       "        text-align: right;\n",
       "    }\n",
       "</style>\n",
       "<table border=\"1\" class=\"dataframe\">\n",
       "  <thead>\n",
       "    <tr style=\"text-align: right;\">\n",
       "      <th></th>\n",
       "      <th>country</th>\n",
       "      <th>total</th>\n",
       "    </tr>\n",
       "  </thead>\n",
       "  <tbody>\n",
       "    <tr>\n",
       "      <th>0</th>\n",
       "      <td>Poland</td>\n",
       "      <td>19582</td>\n",
       "    </tr>\n",
       "    <tr>\n",
       "      <th>1</th>\n",
       "      <td>Czech Republic</td>\n",
       "      <td>2261</td>\n",
       "    </tr>\n",
       "    <tr>\n",
       "      <th>2</th>\n",
       "      <td>*.net</td>\n",
       "      <td>681</td>\n",
       "    </tr>\n",
       "    <tr>\n",
       "      <th>3</th>\n",
       "      <td>Lithuania</td>\n",
       "      <td>527</td>\n",
       "    </tr>\n",
       "    <tr>\n",
       "      <th>4</th>\n",
       "      <td>*.com</td>\n",
       "      <td>240</td>\n",
       "    </tr>\n",
       "    <tr>\n",
       "      <th>5</th>\n",
       "      <td>United Kingdom</td>\n",
       "      <td>127</td>\n",
       "    </tr>\n",
       "    <tr>\n",
       "      <th>6</th>\n",
       "      <td>Ireland</td>\n",
       "      <td>102</td>\n",
       "    </tr>\n",
       "    <tr>\n",
       "      <th>7</th>\n",
       "      <td>Germany</td>\n",
       "      <td>101</td>\n",
       "    </tr>\n",
       "    <tr>\n",
       "      <th>8</th>\n",
       "      <td>Slovakia</td>\n",
       "      <td>88</td>\n",
       "    </tr>\n",
       "    <tr>\n",
       "      <th>9</th>\n",
       "      <td>unidentified</td>\n",
       "      <td>28</td>\n",
       "    </tr>\n",
       "  </tbody>\n",
       "</table>\n",
       "</div>"
      ],
      "text/plain": [
       "          country  total\n",
       "0          Poland  19582\n",
       "1  Czech Republic   2261\n",
       "2           *.net    681\n",
       "3       Lithuania    527\n",
       "4           *.com    240\n",
       "5  United Kingdom    127\n",
       "6         Ireland    102\n",
       "7         Germany    101\n",
       "8        Slovakia     88\n",
       "9    unidentified     28"
      ]
     },
     "execution_count": 10,
     "metadata": {},
     "output_type": "execute_result"
    }
   ],
   "source": [
    "# group by countries and count the total unqiue sessions\n",
    "countries = duckdb.query(\"\"\"\n",
    "    SELECT CASE\n",
    "        WHEN country = 29 THEN 'Poland'\n",
    "        WHEN country = 9  THEN 'Czech Republic'\n",
    "        WHEN country = 46 THEN '*.net'\n",
    "        WHEN country = 24 THEN 'Lithuania'\n",
    "        WHEN country = 44 THEN '*.com'\n",
    "        WHEN country = 41 THEN 'United Kingdom'\n",
    "        WHEN country = 21 THEN 'Ireland'\n",
    "        WHEN country = 16 THEN 'Germany'\n",
    "        WHEN country = 34 THEN 'Slovakia'\n",
    "        WHEN country = 12 THEN 'unidentified'\n",
    "    END AS country\n",
    "        , COUNT(*) AS total\n",
    "    FROM\n",
    "        (SELECT DISTINCT \"session ID\", country\n",
    "        FROM click) AS t1\n",
    "    GROUP BY country\n",
    "    ORDER BY total DESC\n",
    "\"\"\").df()\n",
    "\n",
    "countries.head(10)"
   ]
  },
  {
   "cell_type": "code",
   "execution_count": 11,
   "id": "b5771273-9ca1-482c-928e-a9ccafe30ce1",
   "metadata": {},
   "outputs": [
    {
     "data": {
      "image/png": "[encoded data removed]",
      "text/plain": [
       "<Figure size 720x360 with 1 Axes>"
      ]
     },
     "metadata": {},
     "output_type": "display_data"
    }
   ],
   "source": [
    "# default setting of the seaborn plot\n",
    "sns.set_theme()\n",
    "\n",
    "# specifying the figure size\n",
    "sns.set(rc={\"figure.figsize\":(10, 5)}) #width=10, height=5\n",
    "\n",
    "# increase font size of all elements\n",
    "sns.set(font_scale=1.2)\n",
    "\n",
    "# barplot with appropriate labels\n",
    "a = countries.total\n",
    "colors = np.where(a.index.isin([0,1]), 'red', 'gray')\n",
    "p = countries.iloc[0:8, :].plot(kind=\"bar\", x='country', y='total', color=colors,\n",
    "        xlabel=\"\", ylabel=\"\", legend=False)\n",
    "plt.xticks(rotation=45)\n",
    "\n",
    "plt.show()"
   ]
  },
  {
   "cell_type": "markdown",
   "id": "6c07f3f6-f01c-4ae5-bcf8-0298e9612468",
   "metadata": {},
   "source": [
    "### 3. Session Distribution Across the Months"
   ]
  },
  {
   "cell_type": "code",
   "execution_count": 12,
   "id": "b05cbe11-55b0-4790-a4a4-5aab6f9cec5f",
   "metadata": {},
   "outputs": [
    {
     "data": {
      "image/png": "[encoded data removed]",
      "text/plain": [
       "<Figure size 720x360 with 1 Axes>"
      ]
     },
     "metadata": {},
     "output_type": "display_data"
    }
   ],
   "source": [
    "# group by countries and count the total unique sessions\n",
    "temp3 = duckdb.query(\"\"\"\n",
    "    SELECT\n",
    "        CASE\n",
    "            WHEN dt = 4 THEN 'April'\n",
    "            WHEN dt = 5 THEN 'May'\n",
    "            WHEN dt = 6 THEN 'June'\n",
    "            WHEN dt = 7 THEN 'July'\n",
    "            ELSE 'August'\n",
    "        END AS month,\n",
    "        COUNT(*) AS total\n",
    "    FROM\n",
    "        (SELECT DISTINCT \"session ID\", month(MAKE_DATE(year, month, day)) AS dt, country\n",
    "        FROM click) AS t1\n",
    "    GROUP BY dt\n",
    "    ORDER BY\n",
    "        CASE month\n",
    "            WHEN 'April' THEN 1\n",
    "            WHEN 'May' THEN 2\n",
    "            WHEN 'June' THEN 3\n",
    "            WHEN 'July' THEN 4\n",
    "            ELSE 5\n",
    "        END,\n",
    "        total DESC\n",
    "\"\"\").df()\n",
    "\n",
    "# plot the dataframe accordingly\n",
    "a = temp3.total\n",
    "colors = np.where(a.index == 0, 'red', 'gray')\n",
    "p = temp3.plot(kind=\"bar\", x='month', y='total', color=colors,\n",
    "        xlabel=\"\", ylabel=\"\", legend=False)\n",
    "\n",
    "\n",
    "# setting the rotation of the xlabel as 0 \n",
    "# turns out the default rotation of the xlabel of seaborn plot object is 90 degree\n",
    "p.tick_params(axis='x', rotation=0)\n"
   ]
  },
  {
   "cell_type": "markdown",
   "id": "64069e80-3ca9-4c2b-a7b5-da453a6b9b5d",
   "metadata": {},
   "source": [
    "Significantly more traffic occurred in April compared to May-August. According to [an article analyzing pregnancy patterns](https://visme.co/blog/most-common-birthday/), there is no country with the highest number of pregnancies in April, and for most European countries, the months with the highest number of pregnancies are from July to October. (In Poland, where website traffic is highest, the month with the highest number of pregnancies is October.)\n",
    "\n",
    "One hypothesis for the marked decrease in website traffic as August approaches is that, assuming a pregnancy period of about 40 weeks, most births occur around August when pregnancies began in October. If we assume that noticeable changes occur in the pregnant women's body during the 20-22nd week of pregnancy or even earlier and they start looking for maternity clothes, the highest traffic would occur around March-April and the traffic decreases as it approaches August."
   ]
  },
  {
   "cell_type": "markdown",
   "id": "3d5d7e52-21f3-4bad-9b8d-24ade9938d91",
   "metadata": {},
   "source": [
    "### 4. Product Price Distribution"
   ]
  },
  {
   "cell_type": "code",
   "execution_count": 13,
   "id": "f2bff590-8daf-43f6-88f6-0d6a67ac370d",
   "metadata": {},
   "outputs": [
    {
     "data": {
      "text/html": [
       "<div>\n",
       "<style scoped>\n",
       "    .dataframe tbody tr th:only-of-type {\n",
       "        vertical-align: middle;\n",
       "    }\n",
       "\n",
       "    .dataframe tbody tr th {\n",
       "        vertical-align: top;\n",
       "    }\n",
       "\n",
       "    .dataframe thead th {\n",
       "        text-align: right;\n",
       "    }\n",
       "</style>\n",
       "<table border=\"1\" class=\"dataframe\">\n",
       "  <thead>\n",
       "    <tr style=\"text-align: right;\">\n",
       "      <th></th>\n",
       "      <th>min_price</th>\n",
       "      <th>max_price</th>\n",
       "    </tr>\n",
       "  </thead>\n",
       "  <tbody>\n",
       "    <tr>\n",
       "      <th>0</th>\n",
       "      <td>18</td>\n",
       "      <td>82</td>\n",
       "    </tr>\n",
       "  </tbody>\n",
       "</table>\n",
       "</div>"
      ],
      "text/plain": [
       "   min_price  max_price\n",
       "0         18         82"
      ]
     },
     "execution_count": 13,
     "metadata": {},
     "output_type": "execute_result"
    }
   ],
   "source": [
    "# minimum and maximum product price in US Dollar\n",
    "duckdb.query(\"\"\"\n",
    "    SELECT\n",
    "        MIN(price) AS min_price,\n",
    "        MAX(price) AS max_price\n",
    "    FROM click\n",
    "\"\"\").df()"
   ]
  },
  {
   "cell_type": "code",
   "execution_count": 14,
   "id": "09aa57ee-e6f7-4add-aa6e-3c3270023412",
   "metadata": {},
   "outputs": [
    {
     "data": {
      "image/png": "[encoded data removed]",
      "text/plain": [
       "<Figure size 720x360 with 1 Axes>"
      ]
     },
     "metadata": {},
     "output_type": "display_data"
    }
   ],
   "source": [
    "# create a new figure\n",
    "fig, ax = plt.subplots(figsize=(10,5))\n",
    "\n",
    "# plot a histogram for price\n",
    "sns.histplot(ax=ax, data=click[[\"price\"]], bins=15, legend=False)\n",
    "\n",
    "# set labels\n",
    "ax.set_xlabel(\"Price ($)\")\n",
    "\n",
    "plt.show()"
   ]
  },
  {
   "cell_type": "markdown",
   "id": "dbc69190-c81e-4c98-abcc-acc0e98d38fa",
   "metadata": {},
   "source": [
    "---"
   ]
  },
  {
   "cell_type": "markdown",
   "id": "409954a9-0b2f-4d7c-8b75-175ee91c3197",
   "metadata": {
    "tags": []
   },
   "source": [
    "## Click Analysis\n",
    "\n",
    "Questions to ask:\n",
    "\n",
    "1. Does photo location significantly affect the click rate?\n",
    "2. Is there an interaction effect between photo location and model photography (wheter it is en face or profile)?\n",
    "3. Is there any significant relationship bewteen product price and clicks?"
   ]
  },
  {
   "cell_type": "markdown",
   "id": "8ae06d2a-8d61-4534-b50d-43b429a8a187",
   "metadata": {},
   "source": [
    "### Does the photo location significantly affect the click rate?\n",
    "\n",
    "The `order` columns indicates the sequence of clicks of an user (session ID). Thus, to thoroughly investigate users' behavior in the website, the order of clicks must be taken into consideration rather than naively counting the total number of clicks per photo location. "
   ]
  },
  {
   "cell_type": "markdown",
   "id": "51ceea12-8e65-4631-9ad7-d930f1b19f0f",
   "metadata": {},
   "source": [
    "**Q. Which photo location is more likely to attract users when they first visit the website? Is it significantly different from others?**"
   ]
  },
  {
   "cell_type": "markdown",
   "id": "0c1051ed-1d8e-4285-a973-7e9722c168d9",
   "metadata": {},
   "source": [
    "First, consider the first click of each session."
   ]
  },
  {
   "cell_type": "code",
   "execution_count": 15,
   "id": "6eb507dd-1815-45c1-8690-f151babf0fc6",
   "metadata": {},
   "outputs": [
    {
     "data": {
      "text/html": [
       "<div>\n",
       "<style scoped>\n",
       "    .dataframe tbody tr th:only-of-type {\n",
       "        vertical-align: middle;\n",
       "    }\n",
       "\n",
       "    .dataframe tbody tr th {\n",
       "        vertical-align: top;\n",
       "    }\n",
       "\n",
       "    .dataframe thead th {\n",
       "        text-align: right;\n",
       "    }\n",
       "</style>\n",
       "<table border=\"1\" class=\"dataframe\">\n",
       "  <thead>\n",
       "    <tr style=\"text-align: right;\">\n",
       "      <th></th>\n",
       "      <th>location</th>\n",
       "      <th>first</th>\n",
       "    </tr>\n",
       "  </thead>\n",
       "  <tbody>\n",
       "    <tr>\n",
       "      <th>0</th>\n",
       "      <td>1</td>\n",
       "      <td>6159</td>\n",
       "    </tr>\n",
       "    <tr>\n",
       "      <th>1</th>\n",
       "      <td>2</td>\n",
       "      <td>4916</td>\n",
       "    </tr>\n",
       "    <tr>\n",
       "      <th>2</th>\n",
       "      <td>5</td>\n",
       "      <td>3963</td>\n",
       "    </tr>\n",
       "    <tr>\n",
       "      <th>3</th>\n",
       "      <td>4</td>\n",
       "      <td>3821</td>\n",
       "    </tr>\n",
       "    <tr>\n",
       "      <th>4</th>\n",
       "      <td>6</td>\n",
       "      <td>2718</td>\n",
       "    </tr>\n",
       "    <tr>\n",
       "      <th>5</th>\n",
       "      <td>3</td>\n",
       "      <td>2449</td>\n",
       "    </tr>\n",
       "  </tbody>\n",
       "</table>\n",
       "</div>"
      ],
      "text/plain": [
       "   location  first\n",
       "0         1   6159\n",
       "1         2   4916\n",
       "2         5   3963\n",
       "3         4   3821\n",
       "4         6   2718\n",
       "5         3   2449"
      ]
     },
     "execution_count": 15,
     "metadata": {},
     "output_type": "execute_result"
    }
   ],
   "source": [
    "# filter out clicks other than the first one (order = 1)\n",
    "# then group by photo location to count the total number of first clicks per photo location\n",
    "temp4 = duckdb.query(\"\"\"\n",
    "    SELECT location, COUNT(*) AS first\n",
    "    FROM click \n",
    "    WHERE \"order\" = 1\n",
    "    GROUP BY location\n",
    "    ORDER BY first DESC\n",
    "\"\"\").df()\n",
    "\n",
    "temp4\n",
    "\n",
    "# recall:\n",
    "# 1 - top left\n",
    "# 2 - top center\n",
    "# 3 - top roght\n",
    "# 4 - bottom left\n",
    "# 5 - bottom center\n",
    "# 6 - bottom right"
   ]
  },
  {
   "cell_type": "code",
   "execution_count": 16,
   "id": "c89c7ad9-9421-416a-ad9e-e8638f022029",
   "metadata": {},
   "outputs": [
    {
     "data": {
      "text/plain": [
       "(-3.8123733923460095, 0.00013763873686633375)"
      ]
     },
     "execution_count": 16,
     "metadata": {},
     "output_type": "execute_result"
    }
   ],
   "source": [
    "# perform one sample z-test\n",
    "\n",
    "ztest(temp4[\"first\"], value=6159)"
   ]
  },
  {
   "cell_type": "markdown",
   "id": "5aa4edd2-e9f1-420e-a96b-1db6b4cdaef3",
   "metadata": {},
   "source": [
    "With the p-value of 0.00014, **the photo location of top-left attracts significnatly more users than other locations**. Another interesting point about user behavior is that they prefer left and bottom position of the photo. Notice top-left and top-center have the highest number of users and bottom-center and bottom-left follow. It is less likely for users to click photos located at either bottom-right or top right."
   ]
  },
  {
   "cell_type": "markdown",
   "id": "9da7b603-f35d-4fab-80f8-c975bbfdbb64",
   "metadata": {},
   "source": [
    "Now, let's consider subsequent clicks."
   ]
  },
  {
   "cell_type": "code",
   "execution_count": 17,
   "id": "fe7573a2-89ea-4300-b7ec-944a8a894f33",
   "metadata": {},
   "outputs": [],
   "source": [
    "# create tables for color / photo location / product category\n",
    "duckdb.query(\"\"\"\n",
    "    DROP TABLE IF EXISTS photo_loc;\n",
    "    CREATE TABLE photo_loc(code INTEGER, loc CHAR);\n",
    "    \n",
    "    INSERT INTO photo_loc VALUES (1, 'Top Left');\n",
    "    INSERT INTO photo_loc VALUES (2, 'Top Center');\n",
    "    INSERT INTO photo_loc VALUES (3, 'Top Right');\n",
    "    INSERT INTO photo_loc VALUES (4, 'Bottom Left');\n",
    "    INSERT INTO photo_loc VALUES (5, 'Bottom Center');\n",
    "    INSERT INTO photo_loc VALUES (6, 'Bottom Right');\n",
    "\"\"\")"
   ]
  },
  {
   "cell_type": "code",
   "execution_count": 18,
   "id": "e4035819-ba58-4417-b526-69178bf0d130",
   "metadata": {},
   "outputs": [
    {
     "data": {
      "text/html": [
       "<div>\n",
       "<style scoped>\n",
       "    .dataframe tbody tr th:only-of-type {\n",
       "        vertical-align: middle;\n",
       "    }\n",
       "\n",
       "    .dataframe tbody tr th {\n",
       "        vertical-align: top;\n",
       "    }\n",
       "\n",
       "    .dataframe thead th {\n",
       "        text-align: right;\n",
       "    }\n",
       "</style>\n",
       "<table border=\"1\" class=\"dataframe\">\n",
       "  <thead>\n",
       "    <tr style=\"text-align: right;\">\n",
       "      <th></th>\n",
       "      <th>loc</th>\n",
       "      <th>order</th>\n",
       "      <th>total</th>\n",
       "    </tr>\n",
       "  </thead>\n",
       "  <tbody>\n",
       "    <tr>\n",
       "      <th>0</th>\n",
       "      <td>Top Left</td>\n",
       "      <td>1</td>\n",
       "      <td>4963</td>\n",
       "    </tr>\n",
       "    <tr>\n",
       "      <th>1</th>\n",
       "      <td>Top Center</td>\n",
       "      <td>1</td>\n",
       "      <td>3800</td>\n",
       "    </tr>\n",
       "    <tr>\n",
       "      <th>2</th>\n",
       "      <td>Bottom Left</td>\n",
       "      <td>1</td>\n",
       "      <td>3083</td>\n",
       "    </tr>\n",
       "    <tr>\n",
       "      <th>3</th>\n",
       "      <td>Bottom Center</td>\n",
       "      <td>1</td>\n",
       "      <td>2923</td>\n",
       "    </tr>\n",
       "    <tr>\n",
       "      <th>4</th>\n",
       "      <td>Top Left</td>\n",
       "      <td>2</td>\n",
       "      <td>2893</td>\n",
       "    </tr>\n",
       "  </tbody>\n",
       "</table>\n",
       "</div>"
      ],
      "text/plain": [
       "             loc order  total\n",
       "0       Top Left     1   4963\n",
       "1     Top Center     1   3800\n",
       "2    Bottom Left     1   3083\n",
       "3  Bottom Center     1   2923\n",
       "4       Top Left     2   2893"
      ]
     },
     "execution_count": 18,
     "metadata": {},
     "output_type": "execute_result"
    }
   ],
   "source": [
    "temp5 = duckdb.query(\"\"\"\n",
    "    SELECT t2.loc, \"order\"::CHAR AS \"order\", COUNT(*) AS total\n",
    "    FROM\n",
    "    (\n",
    "        SELECT *\n",
    "        FROM click\n",
    "        WHERE \"order\" BETWEEN 1 AND 5\n",
    "    ) AS t1\n",
    "    LEFT JOIN photo_loc AS t2\n",
    "    ON t1.location = t2.code\n",
    "    WHERE page = 1\n",
    "    GROUP BY t2.loc, \"order\"\n",
    "    ORDER BY total DESC\n",
    "\"\"\").df()\n",
    "\n",
    "temp5.head(5)"
   ]
  },
  {
   "cell_type": "code",
   "execution_count": 19,
   "id": "23e96e0f-ad3d-4dab-b775-0dae29439f37",
   "metadata": {},
   "outputs": [
    {
     "data": {
      "image/png": "[encoded data removed]",
      "text/plain": [
       "<Figure size 720x360 with 1 Axes>"
      ]
     },
     "metadata": {},
     "output_type": "display_data"
    }
   ],
   "source": [
    "# create a new figure\n",
    "fig, ax = plt.subplots(figsize=(10,5))\n",
    "\n",
    "# plot a scatter plot for each order of click\n",
    "sns.scatterplot(ax=ax, data=temp5, x=\"order\", y=\"total\", hue=\"loc\")\n",
    "ax.legend(title=\"Photo Location\")\n",
    "\n",
    "# setting labels properly\n",
    "ax.set_xlabel(\"Click Order\")\n",
    "ax.set_ylabel(\"\")\n",
    "\n",
    "# manually change x tick labels from numeric code to the actual photo location\n",
    "# first, set the location of x ticks and change the x labels appropriately\n",
    "ax.set_xticks(range(0, 5), labels=[\"First\", \"Second\", \"Third\", \"Fourth\", \"Fifth\"])\n",
    "# move xaxis label further down\n",
    "ax.xaxis.labelpad = 20\n",
    "\n",
    "plt.show()"
   ]
  },
  {
   "cell_type": "markdown",
   "id": "fd58035e-ae7a-4a71-9089-b3fc5c95acb9",
   "metadata": {},
   "source": [
    "Notice top-left has the largest amount of traffic for most cases, while the top-right has the least amount of traffic. While the first click has the most traffic, its deviation among photo locations is larger compared to that of other click orders. As customers make more subsequent clicks, they tend to not care about photo location as much."
   ]
  },
  {
   "cell_type": "markdown",
   "id": "fe7cd7a0-1fce-47e9-af73-e35ebb6f987a",
   "metadata": {},
   "source": [
    "### Is there an interaction effect between photo location and model photography?\n",
    "\n",
    "Let's only consider the first click users make."
   ]
  },
  {
   "cell_type": "code",
   "execution_count": 20,
   "id": "5b4ab649-00a6-4630-bc6f-2a3b21b21a92",
   "metadata": {},
   "outputs": [
    {
     "data": {
      "text/html": [
       "<div>\n",
       "<style scoped>\n",
       "    .dataframe tbody tr th:only-of-type {\n",
       "        vertical-align: middle;\n",
       "    }\n",
       "\n",
       "    .dataframe tbody tr th {\n",
       "        vertical-align: top;\n",
       "    }\n",
       "\n",
       "    .dataframe thead th {\n",
       "        text-align: right;\n",
       "    }\n",
       "</style>\n",
       "<table border=\"1\" class=\"dataframe\">\n",
       "  <thead>\n",
       "    <tr style=\"text-align: right;\">\n",
       "      <th></th>\n",
       "      <th>location</th>\n",
       "      <th>total</th>\n",
       "      <th>model photography</th>\n",
       "    </tr>\n",
       "  </thead>\n",
       "  <tbody>\n",
       "    <tr>\n",
       "      <th>0</th>\n",
       "      <td>4</td>\n",
       "      <td>2915</td>\n",
       "      <td>en face</td>\n",
       "    </tr>\n",
       "    <tr>\n",
       "      <th>1</th>\n",
       "      <td>2</td>\n",
       "      <td>2923</td>\n",
       "      <td>en face</td>\n",
       "    </tr>\n",
       "    <tr>\n",
       "      <th>2</th>\n",
       "      <td>1</td>\n",
       "      <td>4313</td>\n",
       "      <td>en face</td>\n",
       "    </tr>\n",
       "    <tr>\n",
       "      <th>3</th>\n",
       "      <td>6</td>\n",
       "      <td>1817</td>\n",
       "      <td>en face</td>\n",
       "    </tr>\n",
       "    <tr>\n",
       "      <th>4</th>\n",
       "      <td>3</td>\n",
       "      <td>1323</td>\n",
       "      <td>en face</td>\n",
       "    </tr>\n",
       "    <tr>\n",
       "      <th>5</th>\n",
       "      <td>5</td>\n",
       "      <td>1511</td>\n",
       "      <td>en face</td>\n",
       "    </tr>\n",
       "    <tr>\n",
       "      <th>6</th>\n",
       "      <td>1</td>\n",
       "      <td>650</td>\n",
       "      <td>profile</td>\n",
       "    </tr>\n",
       "    <tr>\n",
       "      <th>7</th>\n",
       "      <td>5</td>\n",
       "      <td>1412</td>\n",
       "      <td>profile</td>\n",
       "    </tr>\n",
       "    <tr>\n",
       "      <th>8</th>\n",
       "      <td>3</td>\n",
       "      <td>352</td>\n",
       "      <td>profile</td>\n",
       "    </tr>\n",
       "    <tr>\n",
       "      <th>9</th>\n",
       "      <td>2</td>\n",
       "      <td>877</td>\n",
       "      <td>profile</td>\n",
       "    </tr>\n",
       "    <tr>\n",
       "      <th>10</th>\n",
       "      <td>6</td>\n",
       "      <td>369</td>\n",
       "      <td>profile</td>\n",
       "    </tr>\n",
       "    <tr>\n",
       "      <th>11</th>\n",
       "      <td>4</td>\n",
       "      <td>168</td>\n",
       "      <td>profile</td>\n",
       "    </tr>\n",
       "  </tbody>\n",
       "</table>\n",
       "</div>"
      ],
      "text/plain": [
       "    location  total model photography\n",
       "0          4   2915           en face\n",
       "1          2   2923           en face\n",
       "2          1   4313           en face\n",
       "3          6   1817           en face\n",
       "4          3   1323           en face\n",
       "5          5   1511           en face\n",
       "6          1    650           profile\n",
       "7          5   1412           profile\n",
       "8          3    352           profile\n",
       "9          2    877           profile\n",
       "10         6    369           profile\n",
       "11         4    168           profile"
      ]
     },
     "execution_count": 20,
     "metadata": {},
     "output_type": "execute_result"
    }
   ],
   "source": [
    "temp6 = duckdb.query(\"\"\"\n",
    "    SELECT location, COUNT(*) AS total,\n",
    "        CASE\n",
    "            WHEN \"model photography\" = 1 THEN 'en face'\n",
    "            ELSE 'profile'\n",
    "        END AS \"model photography\"\n",
    "    FROM\n",
    "        (\n",
    "            SELECT *\n",
    "            FROM click\n",
    "            WHERE \"order\" = 1\n",
    "                AND (\"model photography\" = 1 OR \"model photography\" = 2)\n",
    "                AND page = 1\n",
    "        ) AS t1\n",
    "    GROUP BY location, \"model photography\"\n",
    "\"\"\").df()\n",
    "\n",
    "temp6"
   ]
  },
  {
   "cell_type": "code",
   "execution_count": 21,
   "id": "e59b3c36-5edf-40fc-9767-5095f45aec44",
   "metadata": {},
   "outputs": [
    {
     "data": {
      "image/png": "[encoded data removed]",
      "text/plain": [
       "<Figure size 720x360 with 1 Axes>"
      ]
     },
     "metadata": {},
     "output_type": "display_data"
    }
   ],
   "source": [
    "# create a new figure\n",
    "fig, ax = plt.subplots(figsize=(10,5))\n",
    "\n",
    "# plot a scatter plot for each order of click\n",
    "sns.barplot(ax=ax, data=temp6, x=\"location\", y=\"total\", hue=\"model photography\")\n",
    "\n",
    "# # set the labels\n",
    "ax.set_xlabel(\"\")\n",
    "ax.set_ylabel(\"Total Number of Clicks\")\n",
    "\n",
    "# manually change x tick labels from numeric code to the actual photo location\n",
    "# first, set the location of x ticks and change the x labels appropriately\n",
    "ax.set_xticks(range(6), labels=[\"Top-Left\", \"Top-Center\", \"Top-Right\", \"Bottom-Left\", \"Bottom-Center\", \"Bottom-Right\"])\n",
    "\n",
    "# update legend position\n",
    "plt.legend(loc='upper right')\n",
    "\n",
    "plt.show()"
   ]
  },
  {
   "cell_type": "markdown",
   "id": "3e36830e-bdd3-491f-a3d3-2a548115fb67",
   "metadata": {},
   "source": [
    "Due to the huge overall difference in traffic between en face and profile photo types, it is difficult to draw any statistical conclusion. However, there are still a few points to which pay close attention.\n",
    "\n",
    "1. Top-left photo location has the largest traffic discrepancy between the two photo types.\n",
    "2. Bottom-center has the least traffic difference between the two photo types.\n",
    "3. While the amount of traffic fluctuates among top-right, bottom-left, and bottom-right for en face type, it does not differ that much for profile photo type."
   ]
  },
  {
   "cell_type": "markdown",
   "id": "b1229450-9024-4ee9-ac51-0e1d9b242e4d",
   "metadata": {},
   "source": [
    "### Any Significant Relationship bewteen Product Price and Clicks?\n",
    "\n",
    "Recall that `1` indicates 'Yes' (product price higher than the average price in its category) and `2` indicates 'No' (product price lower than the average price in its category)."
   ]
  },
  {
   "cell_type": "code",
   "execution_count": 22,
   "id": "8cf50587-8092-4382-b839-13fd74c8ae8d",
   "metadata": {},
   "outputs": [
    {
     "data": {
      "text/html": [
       "<div>\n",
       "<style scoped>\n",
       "    .dataframe tbody tr th:only-of-type {\n",
       "        vertical-align: middle;\n",
       "    }\n",
       "\n",
       "    .dataframe tbody tr th {\n",
       "        vertical-align: top;\n",
       "    }\n",
       "\n",
       "    .dataframe thead th {\n",
       "        text-align: right;\n",
       "    }\n",
       "</style>\n",
       "<table border=\"1\" class=\"dataframe\">\n",
       "  <thead>\n",
       "    <tr style=\"text-align: right;\">\n",
       "      <th></th>\n",
       "      <th>price 2</th>\n",
       "      <th>percentage</th>\n",
       "    </tr>\n",
       "  </thead>\n",
       "  <tbody>\n",
       "    <tr>\n",
       "      <th>0</th>\n",
       "      <td>Yes</td>\n",
       "      <td>50.48281</td>\n",
       "    </tr>\n",
       "    <tr>\n",
       "      <th>1</th>\n",
       "      <td>No</td>\n",
       "      <td>49.51719</td>\n",
       "    </tr>\n",
       "  </tbody>\n",
       "</table>\n",
       "</div>"
      ],
      "text/plain": [
       "  price 2  percentage\n",
       "0     Yes    50.48281\n",
       "1      No    49.51719"
      ]
     },
     "execution_count": 22,
     "metadata": {},
     "output_type": "execute_result"
    }
   ],
   "source": [
    "# among the first clicks, what is the percentage of each `price 2` column value?\n",
    "duckdb.query(\"\"\"\n",
    "    SELECT\n",
    "        CASE\n",
    "            WHEN \"price 2\" = 1 THEN 'Yes'\n",
    "            ELSE 'No'\n",
    "        END AS \"price 2\",\n",
    "        total / SUM(total) OVER()::DECIMAL * 100 AS percentage \n",
    "    FROM (\n",
    "        SELECT \"price 2\", COUNT(*) AS total\n",
    "        FROM click\n",
    "        WHERE \"order\" = 1\n",
    "        GROUP BY \"price 2\") AS t1\n",
    "    ORDER BY percentage DESC\n",
    "\"\"\").df()"
   ]
  },
  {
   "cell_type": "markdown",
   "id": "5d1f2d4d-7021-4b3d-b547-3a0de3b379ad",
   "metadata": {},
   "source": [
    "Customers are slightly more likely (~1%) to click on a particular product if the price of the product is higher than the average price for the other products in the same category. Although the difference is trivial, the result is a bit counterintuitive: customers click more for expensive products. One should be careful about drawing such a conclusion since there are other interacted factors such as color, product type, clothing model, etc."
   ]
  },
  {
   "cell_type": "markdown",
   "id": "30271f1e-f539-4287-9317-9cced1ee79c3",
   "metadata": {},
   "source": [
    "Now, only consider sessions making more than 1 click for subsequent click analysis: **given first click's `price 2` value, what are the percentage of each `price 2` columne value for the next click?**\n",
    "\n",
    "1. Filter out sessions with less than 2 clicks.\n",
    "2. Of selected sessions, filter out rows whose `price 2` column value is not 1 (not 2 - for the second analysis).\n",
    "3. Calculate percentage of each `price 2` value.\n",
    "\n",
    "Given the first click's `price 2` value is 'Yes', the percentage for each `price 2` column value is as follows:"
   ]
  },
  {
   "cell_type": "code",
   "execution_count": 23,
   "id": "951ff1bc-3942-45cc-8729-d412f7054180",
   "metadata": {},
   "outputs": [
    {
     "data": {
      "text/html": [
       "<div>\n",
       "<style scoped>\n",
       "    .dataframe tbody tr th:only-of-type {\n",
       "        vertical-align: middle;\n",
       "    }\n",
       "\n",
       "    .dataframe tbody tr th {\n",
       "        vertical-align: top;\n",
       "    }\n",
       "\n",
       "    .dataframe thead th {\n",
       "        text-align: right;\n",
       "    }\n",
       "</style>\n",
       "<table border=\"1\" class=\"dataframe\">\n",
       "  <thead>\n",
       "    <tr style=\"text-align: right;\">\n",
       "      <th></th>\n",
       "      <th>price 2</th>\n",
       "      <th>percentage</th>\n",
       "    </tr>\n",
       "  </thead>\n",
       "  <tbody>\n",
       "    <tr>\n",
       "      <th>0</th>\n",
       "      <td>Yes</td>\n",
       "      <td>56.018081</td>\n",
       "    </tr>\n",
       "    <tr>\n",
       "      <th>1</th>\n",
       "      <td>No</td>\n",
       "      <td>43.981919</td>\n",
       "    </tr>\n",
       "  </tbody>\n",
       "</table>\n",
       "</div>"
      ],
      "text/plain": [
       "  price 2  percentage\n",
       "0     Yes   56.018081\n",
       "1      No   43.981919"
      ]
     },
     "execution_count": 23,
     "metadata": {},
     "output_type": "execute_result"
    }
   ],
   "source": [
    "duckdb.query(\"\"\"\n",
    "    WITH temp1 AS\n",
    "    (\n",
    "        SELECT \"session ID\", \"order\", \"price 2\"\n",
    "        FROM (\n",
    "            SELECT *,\n",
    "                COUNT(*) OVER(PARTITION BY \"session ID\") AS total\n",
    "            FROM click\n",
    "            WHERE \"order\" = 1 OR \"order\" = 2\n",
    "            ORDER BY \"session ID\") AS t1\n",
    "        WHERE total = 2\n",
    "    ),\n",
    "    \n",
    "    temp2 AS\n",
    "    (   \n",
    "        SELECT *\n",
    "        FROM temp1\n",
    "        WHERE \"order\" = 1 AND \"price 2\" = 1\n",
    "    ),\n",
    "    \n",
    "    temp3 AS\n",
    "    (\n",
    "        -- Only select sessions whose first click 'price 2' column value is 1\n",
    "        SELECT *\n",
    "        FROM temp1\n",
    "        WHERE \"session ID\" IN (SELECT \"session ID\" FROM temp2)\n",
    "        ORDER BY \"session ID\", \"order\"\n",
    "    )\n",
    "    \n",
    "    SELECT\n",
    "        CASE\n",
    "            WHEN \"price 2\" = 1 THEN 'Yes'\n",
    "            ELSE 'No'\n",
    "        END AS \"price 2\",\n",
    "        total / SUM(total) OVER()::DECIMAL * 100 AS percentage\n",
    "    FROM (\n",
    "        SELECT\n",
    "            \"price 2\",\n",
    "            COUNT(*) AS total\n",
    "        FROM temp3\n",
    "        WHERE \"order\" = 2\n",
    "        GROUP BY \"price 2\"\n",
    "        ) AS t1\n",
    "    \n",
    "\"\"\").df()"
   ]
  },
  {
   "cell_type": "markdown",
   "id": "414b6843-91d9-49ef-bcde-ca302be0586a",
   "metadata": {},
   "source": [
    "Without taking into account other factors, customers who made first click on the products with a higher price compared to the average price of other products in the same catgory are more likely (~12%) to click on products that are ALSO more expensive than the average price.\n",
    "\n",
    "Now, repeat this analysis for rows whose first click `price 2` value is 2 (No)."
   ]
  },
  {
   "cell_type": "code",
   "execution_count": 24,
   "id": "7f45a663-2de4-4049-ac6a-66c2ba244417",
   "metadata": {},
   "outputs": [
    {
     "data": {
      "text/html": [
       "<div>\n",
       "<style scoped>\n",
       "    .dataframe tbody tr th:only-of-type {\n",
       "        vertical-align: middle;\n",
       "    }\n",
       "\n",
       "    .dataframe tbody tr th {\n",
       "        vertical-align: top;\n",
       "    }\n",
       "\n",
       "    .dataframe thead th {\n",
       "        text-align: right;\n",
       "    }\n",
       "</style>\n",
       "<table border=\"1\" class=\"dataframe\">\n",
       "  <thead>\n",
       "    <tr style=\"text-align: right;\">\n",
       "      <th></th>\n",
       "      <th>price 2</th>\n",
       "      <th>percentage</th>\n",
       "    </tr>\n",
       "  </thead>\n",
       "  <tbody>\n",
       "    <tr>\n",
       "      <th>0</th>\n",
       "      <td>No</td>\n",
       "      <td>55.052265</td>\n",
       "    </tr>\n",
       "    <tr>\n",
       "      <th>1</th>\n",
       "      <td>Yes</td>\n",
       "      <td>44.947735</td>\n",
       "    </tr>\n",
       "  </tbody>\n",
       "</table>\n",
       "</div>"
      ],
      "text/plain": [
       "  price 2  percentage\n",
       "0      No   55.052265\n",
       "1     Yes   44.947735"
      ]
     },
     "execution_count": 24,
     "metadata": {},
     "output_type": "execute_result"
    }
   ],
   "source": [
    "duckdb.query(\"\"\"\n",
    "    WITH temp1 AS\n",
    "    (\n",
    "        SELECT \"session ID\", \"order\", \"price 2\"\n",
    "        FROM (\n",
    "            SELECT *,\n",
    "                COUNT(*) OVER(PARTITION BY \"session ID\") AS total\n",
    "            FROM click\n",
    "            WHERE \"order\" = 1 OR \"order\" = 2\n",
    "            ORDER BY \"session ID\") AS t1\n",
    "        WHERE total = 2\n",
    "    ),\n",
    "    \n",
    "    temp2 AS\n",
    "    (   \n",
    "        SELECT *\n",
    "        FROM temp1\n",
    "        WHERE \"order\" = 1 AND \"price 2\" = 2\n",
    "    ),\n",
    "    \n",
    "    temp3 AS\n",
    "    (\n",
    "        -- Only select sessions whose first click 'price 2' column value is 2\n",
    "        SELECT *\n",
    "        FROM temp1\n",
    "        WHERE \"session ID\" IN (SELECT \"session ID\" FROM temp2)\n",
    "        ORDER BY \"session ID\", \"order\"\n",
    "    )\n",
    "    \n",
    "    SELECT\n",
    "        CASE\n",
    "            WHEN \"price 2\" = 1 THEN 'Yes'\n",
    "            ELSE 'No'\n",
    "        END AS \"price 2\",\n",
    "        total / SUM(total) OVER()::DECIMAL * 100 AS percentage\n",
    "    FROM (\n",
    "        SELECT\n",
    "            \"price 2\",\n",
    "            COUNT(*) AS total\n",
    "        FROM temp3\n",
    "        WHERE \"order\" = 2\n",
    "        GROUP BY \"price 2\"\n",
    "        ) AS t1\n",
    "    \n",
    "\"\"\").df()"
   ]
  },
  {
   "cell_type": "markdown",
   "id": "51111bc4-e421-44e2-840d-2b22860fac9e",
   "metadata": {},
   "source": [
    "Customers who made the first click on the product that are cheaper than the average price of its category are much more likely (~11%) to make second clicks on the products that are cheaper as well."
   ]
  },
  {
   "cell_type": "markdown",
   "id": "a412e4ca-1833-4dec-a846-a7652800b34c",
   "metadata": {
    "tags": []
   },
   "source": [
    "### What is the popular product type, color, or type-color combination?\n",
    "\n",
    "Let's only consider the **first** click customers make when they entered the website."
   ]
  },
  {
   "cell_type": "code",
   "execution_count": 25,
   "id": "5cd6af9c-b000-4cca-91ca-43791ead246b",
   "metadata": {},
   "outputs": [],
   "source": [
    "# create tables for color / product category\n",
    "duckdb.query(\"\"\"\n",
    "    DROP TABLE IF EXISTS color;\n",
    "    CREATE TABLE color(code INTEGER, color CHAR);\n",
    "    \n",
    "    INSERT INTO color VALUES (1, 'beige');\n",
    "    INSERT INTO color VALUES (2, 'black');\n",
    "    INSERT INTO color VALUES (3, 'blue');\n",
    "    INSERT INTO color VALUES (4, 'brown');\n",
    "    INSERT INTO color VALUES (5, 'burgundy');\n",
    "    INSERT INTO color VALUES (6, 'gray');\n",
    "    INSERT INTO color VALUES (7, 'green');\n",
    "    INSERT INTO color VALUES (8, 'navy blue');\n",
    "    INSERT INTO color VALUES (9, 'of many colors');\n",
    "    INSERT INTO color VALUES (10, 'olive');\n",
    "    INSERT INTO color VALUES (11, 'pink');\n",
    "    INSERT INTO color VALUES (12, 'red');\n",
    "    INSERT INTO color VALUES (13, 'violet');\n",
    "    INSERT INTO color VALUES (14, 'white');\n",
    "\"\"\")\n",
    "\n",
    "duckdb.query(\"\"\"\n",
    "    DROP TABLE IF EXISTS category;\n",
    "    CREATE TABLE category(code INTEGER, type CHAR);\n",
    "    \n",
    "    INSERT INTO category VALUES (1, 'trousers');\n",
    "    INSERT INTO category VALUES (2, 'skirts');\n",
    "    INSERT INTO category VALUES (3, 'blouses');\n",
    "    INSERT INTO category VALUES (4, 'sale');\n",
    "\"\"\")"
   ]
  },
  {
   "cell_type": "code",
   "execution_count": 26,
   "id": "70e50ed9-8abb-4343-b706-8b5a55eed2a7",
   "metadata": {},
   "outputs": [
    {
     "data": {
      "text/html": [
       "<div>\n",
       "<style scoped>\n",
       "    .dataframe tbody tr th:only-of-type {\n",
       "        vertical-align: middle;\n",
       "    }\n",
       "\n",
       "    .dataframe tbody tr th {\n",
       "        vertical-align: top;\n",
       "    }\n",
       "\n",
       "    .dataframe thead th {\n",
       "        text-align: right;\n",
       "    }\n",
       "</style>\n",
       "<table border=\"1\" class=\"dataframe\">\n",
       "  <thead>\n",
       "    <tr style=\"text-align: right;\">\n",
       "      <th></th>\n",
       "      <th>color</th>\n",
       "      <th>total</th>\n",
       "    </tr>\n",
       "  </thead>\n",
       "  <tbody>\n",
       "    <tr>\n",
       "      <th>0</th>\n",
       "      <td>blue</td>\n",
       "      <td>5700</td>\n",
       "    </tr>\n",
       "    <tr>\n",
       "      <th>1</th>\n",
       "      <td>black</td>\n",
       "      <td>3040</td>\n",
       "    </tr>\n",
       "    <tr>\n",
       "      <th>2</th>\n",
       "      <td>brown</td>\n",
       "      <td>1970</td>\n",
       "    </tr>\n",
       "    <tr>\n",
       "      <th>3</th>\n",
       "      <td>navy blue</td>\n",
       "      <td>1231</td>\n",
       "    </tr>\n",
       "    <tr>\n",
       "      <th>4</th>\n",
       "      <td>red</td>\n",
       "      <td>1141</td>\n",
       "    </tr>\n",
       "  </tbody>\n",
       "</table>\n",
       "</div>"
      ],
      "text/plain": [
       "       color  total\n",
       "0       blue   5700\n",
       "1      black   3040\n",
       "2      brown   1970\n",
       "3  navy blue   1231\n",
       "4        red   1141"
      ]
     },
     "execution_count": 26,
     "metadata": {},
     "output_type": "execute_result"
    }
   ],
   "source": [
    "# total number of clicks per color\n",
    "duckdb.query(\"\"\"\n",
    "    SELECT t2.color, COUNT(*) AS total\n",
    "    FROM click AS t1\n",
    "    LEFT JOIN color AS t2\n",
    "    ON t1.colour = t2.code\n",
    "    WHERE \"order\" = 1 AND page = 1\n",
    "    GROUP BY t2.color\n",
    "    ORDER BY total DESC\n",
    "\"\"\").df().head()"
   ]
  },
  {
   "cell_type": "markdown",
   "id": "a9fbb0c1-8744-401c-949a-f37666c7d7a5",
   "metadata": {},
   "source": [
    "Without considering other factors, blue has significantly more clicks compared to other product colors. Let's consider the photo location this time."
   ]
  },
  {
   "cell_type": "code",
   "execution_count": 27,
   "id": "2174b20e-c95b-44c9-a805-25510a2920c0",
   "metadata": {
    "tags": []
   },
   "outputs": [
    {
     "data": {
      "text/html": [
       "<div>\n",
       "<style scoped>\n",
       "    .dataframe tbody tr th:only-of-type {\n",
       "        vertical-align: middle;\n",
       "    }\n",
       "\n",
       "    .dataframe tbody tr th {\n",
       "        vertical-align: top;\n",
       "    }\n",
       "\n",
       "    .dataframe thead th {\n",
       "        text-align: right;\n",
       "    }\n",
       "</style>\n",
       "<table border=\"1\" class=\"dataframe\">\n",
       "  <thead>\n",
       "    <tr style=\"text-align: right;\">\n",
       "      <th></th>\n",
       "      <th>color</th>\n",
       "      <th>loc</th>\n",
       "      <th>total</th>\n",
       "    </tr>\n",
       "  </thead>\n",
       "  <tbody>\n",
       "    <tr>\n",
       "      <th>0</th>\n",
       "      <td>blue</td>\n",
       "      <td>Top Left</td>\n",
       "      <td>2235</td>\n",
       "    </tr>\n",
       "    <tr>\n",
       "      <th>1</th>\n",
       "      <td>blue</td>\n",
       "      <td>Top Center</td>\n",
       "      <td>1596</td>\n",
       "    </tr>\n",
       "    <tr>\n",
       "      <th>2</th>\n",
       "      <td>black</td>\n",
       "      <td>Bottom Left</td>\n",
       "      <td>1508</td>\n",
       "    </tr>\n",
       "    <tr>\n",
       "      <th>3</th>\n",
       "      <td>navy blue</td>\n",
       "      <td>Top Left</td>\n",
       "      <td>1231</td>\n",
       "    </tr>\n",
       "    <tr>\n",
       "      <th>4</th>\n",
       "      <td>blue</td>\n",
       "      <td>Bottom Left</td>\n",
       "      <td>1027</td>\n",
       "    </tr>\n",
       "  </tbody>\n",
       "</table>\n",
       "</div>"
      ],
      "text/plain": [
       "       color          loc  total\n",
       "0       blue     Top Left   2235\n",
       "1       blue   Top Center   1596\n",
       "2      black  Bottom Left   1508\n",
       "3  navy blue     Top Left   1231\n",
       "4       blue  Bottom Left   1027"
      ]
     },
     "execution_count": 27,
     "metadata": {},
     "output_type": "execute_result"
    }
   ],
   "source": [
    "# number of the first clicks on the first page for each color product and photo location\n",
    "temp7 = duckdb.query(\"\"\"\n",
    "    SELECT color, loc, total\n",
    "    FROM\n",
    "    (\n",
    "        SELECT colour, location, COUNT(*) AS total\n",
    "        FROM click\n",
    "        WHERE page = 1 AND \"order\" = 1\n",
    "        GROUP BY colour, location\n",
    "        ORDER BY total DESC\n",
    "    ) AS t1\n",
    "    LEFT JOIN color AS t2\n",
    "    ON t1.colour = t2.code\n",
    "    LEFT JOIN photo_loc AS t3\n",
    "    ON t1.location = t3.code\n",
    "    ORDER BY total DESC\n",
    "\"\"\").df()\n",
    "\n",
    "temp7.head(5)"
   ]
  },
  {
   "cell_type": "code",
   "execution_count": 28,
   "id": "7c58e911-0c01-4833-a24b-6681cfff8aee",
   "metadata": {},
   "outputs": [
    {
     "data": {
      "image/png": "[encoded data removed]",
      "text/plain": [
       "<Figure size 720x360 with 1 Axes>"
      ]
     },
     "metadata": {},
     "output_type": "display_data"
    }
   ],
   "source": [
    "# create a new figure\n",
    "fig, ax = plt.subplots(figsize=(10,5))\n",
    "\n",
    "# plot a scatter plot for each order of click\n",
    "sns.scatterplot(ax=ax, data=temp7, x=\"color\", y=\"total\", hue=\"loc\")\n",
    "\n",
    "# # set the labels\n",
    "ax.set_xlabel(\"Color of Product\")\n",
    "ax.set_ylabel(\"Total Number of Clicks\")\n",
    "\n",
    "# move xaxis label further down\n",
    "ax.xaxis.labelpad = 20\n",
    "\n",
    "# rotate x label \n",
    "ax.tick_params(axis=\"x\", rotation=90)\n",
    "\n",
    "# update legend position\n",
    "plt.legend(loc='upper right')\n",
    "\n",
    "plt.show()"
   ]
  },
  {
   "cell_type": "markdown",
   "id": "a732503d-5a6b-41e3-91c9-682cf2c1fc7f",
   "metadata": {},
   "source": [
    "Blue products located at the top left on the first page of the website have the highest number of first clicks. Now let's consider product type as well."
   ]
  },
  {
   "cell_type": "code",
   "execution_count": 29,
   "id": "83cd5576-c038-4ee3-8eee-1dd87d379831",
   "metadata": {},
   "outputs": [
    {
     "data": {
      "text/html": [
       "<div>\n",
       "<style scoped>\n",
       "    .dataframe tbody tr th:only-of-type {\n",
       "        vertical-align: middle;\n",
       "    }\n",
       "\n",
       "    .dataframe tbody tr th {\n",
       "        vertical-align: top;\n",
       "    }\n",
       "\n",
       "    .dataframe thead th {\n",
       "        text-align: right;\n",
       "    }\n",
       "</style>\n",
       "<table border=\"1\" class=\"dataframe\">\n",
       "  <thead>\n",
       "    <tr style=\"text-align: right;\">\n",
       "      <th></th>\n",
       "      <th>color</th>\n",
       "      <th>type</th>\n",
       "      <th>total</th>\n",
       "    </tr>\n",
       "  </thead>\n",
       "  <tbody>\n",
       "    <tr>\n",
       "      <th>0</th>\n",
       "      <td>blue</td>\n",
       "      <td>trousers</td>\n",
       "      <td>4535</td>\n",
       "    </tr>\n",
       "    <tr>\n",
       "      <th>1</th>\n",
       "      <td>black</td>\n",
       "      <td>skirts</td>\n",
       "      <td>1529</td>\n",
       "    </tr>\n",
       "    <tr>\n",
       "      <th>2</th>\n",
       "      <td>navy blue</td>\n",
       "      <td>trousers</td>\n",
       "      <td>1231</td>\n",
       "    </tr>\n",
       "    <tr>\n",
       "      <th>3</th>\n",
       "      <td>blue</td>\n",
       "      <td>sale</td>\n",
       "      <td>943</td>\n",
       "    </tr>\n",
       "    <tr>\n",
       "      <th>4</th>\n",
       "      <td>red</td>\n",
       "      <td>skirts</td>\n",
       "      <td>917</td>\n",
       "    </tr>\n",
       "  </tbody>\n",
       "</table>\n",
       "</div>"
      ],
      "text/plain": [
       "       color      type  total\n",
       "0       blue  trousers   4535\n",
       "1      black    skirts   1529\n",
       "2  navy blue  trousers   1231\n",
       "3       blue      sale    943\n",
       "4        red    skirts    917"
      ]
     },
     "execution_count": 29,
     "metadata": {},
     "output_type": "execute_result"
    }
   ],
   "source": [
    "temp8 = duckdb.query(\"\"\"\n",
    "    SELECT color, type, total\n",
    "    FROM\n",
    "    (\n",
    "        SELECT colour, \"page 1 (main category)\" AS category, COUNT(*) AS total\n",
    "        FROM click\n",
    "        WHERE page = 1 AND \"order\" = 1\n",
    "        GROUP BY colour, category\n",
    "        ORDER BY total DESC\n",
    "    ) AS t1\n",
    "    LEFT JOIN color AS t2\n",
    "    ON t1.colour = t2.code\n",
    "    LEFT JOIN category AS t3\n",
    "    ON t1.category = t3.code\n",
    "    ORDER BY total DESC\n",
    "\"\"\").df()\n",
    "\n",
    "temp8.head()"
   ]
  },
  {
   "cell_type": "code",
   "execution_count": 30,
   "id": "c82c0830-dfec-4b62-a6d9-1ef0e7bee30c",
   "metadata": {},
   "outputs": [
    {
     "data": {
      "image/png": "[encoded data removed]",
      "text/plain": [
       "<Figure size 720x360 with 1 Axes>"
      ]
     },
     "metadata": {},
     "output_type": "display_data"
    }
   ],
   "source": [
    "# create a new figure\n",
    "fig, ax = plt.subplots(figsize=(10,5))\n",
    "\n",
    "# plot a scatter plot for each order of click\n",
    "sns.scatterplot(ax=ax, data=temp8, x=\"color\", y=\"total\", hue=\"type\")\n",
    "\n",
    "# # set the labels\n",
    "ax.set_xlabel(\"Color of Product\")\n",
    "ax.set_ylabel(\"Total Number of Clicks\")\n",
    "\n",
    "# move xaxis label further down\n",
    "ax.xaxis.labelpad = 20\n",
    "\n",
    "# rotate x label \n",
    "ax.tick_params(axis=\"x\", rotation=90)\n",
    "\n",
    "# update legend position\n",
    "plt.legend(loc='upper right')\n",
    "\n",
    "plt.show()"
   ]
  },
  {
   "cell_type": "markdown",
   "id": "f85057b0-defa-4fe8-9b44-721179571b7a",
   "metadata": {},
   "source": [
    "Among all possible color-category combinations, the blue trouser has significantly more clicks than others on the first page. Keep in mind this is only the first response analysis: the first click a customer makes on the first page of the website."
   ]
  },
  {
   "cell_type": "markdown",
   "id": "fda35480-55cf-4ecc-aad2-3e2785a37c1c",
   "metadata": {},
   "source": [
    "## Category-Location Combination"
   ]
  },
  {
   "cell_type": "code",
   "execution_count": 31,
   "id": "cfc08acf-5508-4697-8c1e-b875517abd7c",
   "metadata": {},
   "outputs": [
    {
     "data": {
      "text/html": [
       "<div>\n",
       "<style scoped>\n",
       "    .dataframe tbody tr th:only-of-type {\n",
       "        vertical-align: middle;\n",
       "    }\n",
       "\n",
       "    .dataframe tbody tr th {\n",
       "        vertical-align: top;\n",
       "    }\n",
       "\n",
       "    .dataframe thead th {\n",
       "        text-align: right;\n",
       "    }\n",
       "</style>\n",
       "<table border=\"1\" class=\"dataframe\">\n",
       "  <thead>\n",
       "    <tr style=\"text-align: right;\">\n",
       "      <th></th>\n",
       "      <th>loc</th>\n",
       "      <th>type</th>\n",
       "      <th>total</th>\n",
       "    </tr>\n",
       "  </thead>\n",
       "  <tbody>\n",
       "    <tr>\n",
       "      <th>0</th>\n",
       "      <td>Top Left</td>\n",
       "      <td>trousers</td>\n",
       "      <td>2391</td>\n",
       "    </tr>\n",
       "    <tr>\n",
       "      <th>1</th>\n",
       "      <td>Top Center</td>\n",
       "      <td>trousers</td>\n",
       "      <td>1506</td>\n",
       "    </tr>\n",
       "    <tr>\n",
       "      <th>2</th>\n",
       "      <td>Bottom Left</td>\n",
       "      <td>trousers</td>\n",
       "      <td>1327</td>\n",
       "    </tr>\n",
       "    <tr>\n",
       "      <th>3</th>\n",
       "      <td>Bottom Center</td>\n",
       "      <td>trousers</td>\n",
       "      <td>1232</td>\n",
       "    </tr>\n",
       "    <tr>\n",
       "      <th>4</th>\n",
       "      <td>Bottom Left</td>\n",
       "      <td>skirts</td>\n",
       "      <td>1208</td>\n",
       "    </tr>\n",
       "  </tbody>\n",
       "</table>\n",
       "</div>"
      ],
      "text/plain": [
       "             loc      type  total\n",
       "0       Top Left  trousers   2391\n",
       "1     Top Center  trousers   1506\n",
       "2    Bottom Left  trousers   1327\n",
       "3  Bottom Center  trousers   1232\n",
       "4    Bottom Left    skirts   1208"
      ]
     },
     "execution_count": 31,
     "metadata": {},
     "output_type": "execute_result"
    }
   ],
   "source": [
    "cate_loc_df = duckdb.query(\"\"\"\n",
    "    SELECT\n",
    "        loc\n",
    "        , type\n",
    "        , COUNT(*) AS total\n",
    "    FROM\n",
    "    (\n",
    "        SELECT *\n",
    "        FROM click AS t1\n",
    "        LEFT JOIN photo_loc AS t2\n",
    "        ON t1.location = t2.code\n",
    "        LEFT JOIN category AS t3\n",
    "        ON t1.\"page 1 (main category)\" = t3.code\n",
    "    )\n",
    "    WHERE \"order\" = 1 AND page = 1\n",
    "    GROUP BY loc, type\n",
    "    ORDER BY total DESC\n",
    "\"\"\").df()\n",
    "\n",
    "cate_loc_df.head()"
   ]
  },
  {
   "cell_type": "code",
   "execution_count": 32,
   "id": "1c7d26fc-63f2-494f-87a2-027583419144",
   "metadata": {},
   "outputs": [
    {
     "data": {
      "image/png": "[encoded data removed]",
      "text/plain": [
       "<Figure size 720x360 with 1 Axes>"
      ]
     },
     "metadata": {},
     "output_type": "display_data"
    }
   ],
   "source": [
    "# create a new figure\n",
    "fig, ax = plt.subplots(figsize=(10,5))\n",
    "\n",
    "# plot a scatter plot for each order of click\n",
    "sns.scatterplot(ax=ax, data=cate_loc_df, x=\"loc\", y=\"total\", hue=\"type\")\n",
    "\n",
    "# # set the labels\n",
    "ax.set_xlabel(\"\")\n",
    "ax.set_ylabel(\"\")\n",
    "\n",
    "# move xaxis label further down\n",
    "ax.xaxis.labelpad = 20\n",
    "\n",
    "# rotate x label \n",
    "ax.tick_params(axis=\"x\", rotation=0)\n",
    "\n",
    "# update legend position\n",
    "plt.legend(loc='upper right')\n",
    "\n",
    "plt.show()"
   ]
  }
 ],
 "metadata": {
  "kernelspec": {
   "display_name": "Python 3 (ipykernel)",
   "language": "python",
   "name": "python3"
  },
  "language_info": {
   "codemirror_mode": {
    "name": "ipython",
    "version": 3
   },
   "file_extension": ".py",
   "mimetype": "text/x-python",
   "name": "python",
   "nbconvert_exporter": "python",
   "pygments_lexer": "ipython3",
   "version": "3.9.7"
  },
  "toc-showmarkdowntxt": false
 },
 "nbformat": 4,
 "nbformat_minor": 5
}
